{
 "cells": [
  {
   "cell_type": "code",
   "execution_count": 3,
   "metadata": {},
   "outputs": [
    {
     "name": "stdout",
     "output_type": "stream",
     "text": [
      "Collecting httplib2\n",
      "  Downloading httplib2-0.19.0-py3-none-any.whl (95 kB)\n",
      "\u001b[K     |████████████████████████████████| 95 kB 1.6 MB/s eta 0:00:01\n",
      "\u001b[?25hRequirement already satisfied: pyparsing<3,>=2.4.2 in /Users/garvinmo/opt/anaconda3/lib/python3.8/site-packages (from httplib2) (2.4.7)\n",
      "Installing collected packages: httplib2\n",
      "Successfully installed httplib2-0.19.0\n",
      "Note: you may need to restart the kernel to use updated packages.\n"
     ]
    }
   ],
   "source": [
    "#pip install httplib2 uncomment to install"
   ]
  },
  {
   "cell_type": "code",
   "execution_count": 1,
   "metadata": {},
   "outputs": [],
   "source": [
    "import httplib2\n",
    "import requests\n",
    "import pandas as pd\n",
    "import lxml.html as html\n",
    "from bs4 import BeautifulSoup, SoupStrainer"
   ]
  },
  {
   "cell_type": "code",
   "execution_count": 2,
   "metadata": {},
   "outputs": [
    {
     "name": "stdout",
     "output_type": "stream",
     "text": [
      "Total Careers: 1097\n",
      "https://access.vault.com/industries-professions/professions/a/accountants\n"
     ]
    }
   ],
   "source": [
    "http = httplib2.Http()\n",
    "status, response = http.request('https://access.vault.com/best-jobs-and-career-guidance')\n",
    "\n",
    "links = []\n",
    "url = '/industries-professions/professions/'\n",
    "url_prefix = 'https://access.vault.com'\n",
    "\n",
    "for link in BeautifulSoup(response, 'html.parser', parse_only=SoupStrainer('a')):\n",
    "    if link.has_attr('href'):\n",
    "        if url in link['href']:\n",
    "            links.append(url_prefix + link['href'])\n",
    "    \n",
    "print(\"Total Careers: {}\".format(len(links)))\n",
    "print(links[1])"
   ]
  },
  {
   "cell_type": "code",
   "execution_count": 3,
   "metadata": {},
   "outputs": [],
   "source": [
    "def getTraits(URL):\n",
    "    page=requests.get(URL)\n",
    "    \n",
    "    soup = BeautifulSoup(page.content, 'html.parser')\n",
    "    career = soup.select('h1')[0].text.replace('\\r', '').replace('\\n', '').strip()\n",
    "    \n",
    "    trait1 = soup.find_all(\"div\", class_=\"icon\")\n",
    "    personality1 = trait1[4].find('p').getText()\n",
    "    personality2 = trait1[5].find('p').getText()\n",
    "    personality3 = trait1[6].find('p').getText()\n",
    "    \n",
    "    return [personality1, personality2, personality3]"
   ]
  },
  {
   "cell_type": "code",
   "execution_count": 4,
   "metadata": {},
   "outputs": [
    {
     "name": "stdout",
     "output_type": "stream",
     "text": [
      "['Hands On', 'Problem-Solving', 'Professional Beekeeper']\n"
     ]
    }
   ],
   "source": [
    "# traits = getTraits('https://www.vault.com/industries-professions/professions/b/beekeepers')  \n",
    "# print(traits)\n",
    "\n",
    "page=requests.get('https://www.vault.com/industries-professions/professions/b/beekeepers')\n",
    "\n",
    "soup = BeautifulSoup(page.content, 'html.parser')\n",
    "career = soup.select('h1')[0].text.replace('\\r', '').replace('\\n', '').strip()\n",
    "print(career)\n",
    "\n",
    "trait1 = soup.find_all(\"div\", class_=\"icon\")\n",
    "# for trait in trait1:\n",
    "#     print(trait)\n",
    "#     print()\n",
    "\n",
    "print(trait1[4])\n",
    "print(trait1[4].find('p').getText())\n",
    "print(trait1[5].find('p').getText())\n",
    "print(trait1[6].find('p').getText())"
   ]
  },
  {
   "cell_type": "code",
   "execution_count": 19,
   "metadata": {},
   "outputs": [],
   "source": [
    "traits = {}\n",
    "\n",
    "for career in links:\n",
    "    p_traits = getTraits(career)\n",
    "\n",
    "    for trait in p_traits:\n",
    "        if trait in traits.keys():\n",
    "            traits[trait] = traits[trait] + 1\n",
    "        else:\n",
    "            traits[trait] = 1"
   ]
  },
  {
   "cell_type": "code",
   "execution_count": 25,
   "metadata": {},
   "outputs": [
    {
     "name": "stdout",
     "output_type": "stream",
     "text": [
      "Problem-Solving: 458\n",
      "Hands On: 379\n",
      "Technical: 372\n",
      "Organized: 350\n",
      "Helpful: 269\n",
      "Conventional: 215\n",
      "Realistic: 200\n",
      "Outgoing: 191\n",
      "Scientific: 178\n",
      "Enterprising: 173\n",
      "Creative: 142\n",
      "Curious: 99\n",
      "Social: 98\n",
      "Artistic: 81\n",
      "Athletic: 59\n",
      "Talkative: 23\n",
      "Professional Beekeeper: 1\n",
      "Chief Technology Officer: 1\n",
      "Managing Attorney : 1\n",
      "Playwright: 1\n"
     ]
    }
   ],
   "source": [
    "sortedTraits = {k: v for k, v in sorted(traits.items(), key=lambda item: item[1], reverse=True)}\n",
    "for key, value in sortedTraits.items():\n",
    "    print('{}: {}'.format(key,value))"
   ]
  },
  {
   "cell_type": "code",
   "execution_count": 34,
   "metadata": {},
   "outputs": [
    {
     "data": {
      "image/png": "[encoded data removed]",
      "text/plain": [
       "<Figure size 1080x576 with 1 Axes>"
      ]
     },
     "metadata": {
      "needs_background": "light"
     },
     "output_type": "display_data"
    }
   ],
   "source": [
    "import matplotlib.pyplot as plt\n",
    "import seaborn as sns\n",
    "\n",
    "x_career=list(sortedTraits.keys())\n",
    "y_count=list(sortedTraits.values())\n",
    "\n",
    "plt.figure(figsize=(15,8))\n",
    "sns.barplot(x=y_count, y=x_career)\n",
    "plt.show()"
   ]
  },
  {
   "cell_type": "code",
   "execution_count": null,
   "metadata": {},
   "outputs": [],
   "source": []
  }
 ],
 "metadata": {
  "kernelspec": {
   "display_name": "Python 3",
   "language": "python",
   "name": "python3"
  },
  "language_info": {
   "codemirror_mode": {
    "name": "ipython",
    "version": 3
   },
   "file_extension": ".py",
   "mimetype": "text/x-python",
   "name": "python",
   "nbconvert_exporter": "python",
   "pygments_lexer": "ipython3",
   "version": "3.8.5"
  }
 },
 "nbformat": 4,
 "nbformat_minor": 4
}
